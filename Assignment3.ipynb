{
 "cells": [
  {
   "cell_type": "code",
   "execution_count": 11,
   "metadata": {},
   "outputs": [
    {
     "name": "stdout",
     "output_type": "stream",
     "text": [
      "Enter first digit : 3\n",
      "Enter econd digit :4\n",
      "Select operation : 1) +  2) - 3) * 4)/ 5) **1\n",
      "Sum of 3.0 and 4.0 is: 7.0\n"
     ]
    }
   ],
   "source": [
    "a=float(input(\"Enter first digit : \"))\n",
    "b=float(input(\"Enter econd digit :\"))\n",
    "c=int(input(\"Select operation : 1) +  2) - 3) * 4)/ 5) **\"))\n",
    "if c==1 :\n",
    "    print(\"Sum of\",a,\"and\",b,\"is:\",a+b)\n",
    "elif c==2:\n",
    "    print(\"Subtraction  of two number is:\",a-b)\n",
    "elif c==3:\n",
    "    print(\"Multiplitcation of two number is:\",a*b)\n",
    "    \n",
    "elif c==4 :\n",
    "    print(\"Division of two number is \",a/b)\n",
    "elif c==5 :\n",
    "    print(\"Power is\",a**b)\n",
    "else:\n",
    "    print (\"Out of bound\");\n"
   ]
  },
  {
   "cell_type": "code",
   "execution_count": null,
   "metadata": {},
   "outputs": [],
   "source": []
  },
  {
   "cell_type": "code",
   "execution_count": null,
   "metadata": {},
   "outputs": [],
   "source": []
  }
 ],
 "metadata": {
  "kernelspec": {
   "display_name": "Python 3",
   "language": "python",
   "name": "python3"
  },
  "language_info": {
   "codemirror_mode": {
    "name": "ipython",
    "version": 3
   },
   "file_extension": ".py",
   "mimetype": "text/x-python",
   "name": "python",
   "nbconvert_exporter": "python",
   "pygments_lexer": "ipython3",
   "version": "3.7.4"
  }
 },
 "nbformat": 4,
 "nbformat_minor": 2
}
