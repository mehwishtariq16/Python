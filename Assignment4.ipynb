{
 "cells": [
  {
   "cell_type": "code",
   "execution_count": 1,
   "metadata": {},
   "outputs": [
    {
     "name": "stdout",
     "output_type": "stream",
     "text": [
      "The person's first_name is Mehwish\n",
      "The person's last_name is Tariq\n",
      "The person's age is 21\n",
      "The person's city is Karachi\n"
     ]
    }
   ],
   "source": [
    "person1={ \"first_name\":\"Mehwish\",\"last_name\":\"Tariq\",\"age\":\"21\",\"city\":\"Karachi\"\n",
    "    \n",
    "}\n",
    "for each_key, each_value in person1.items():  \n",
    "    print(\"The person's \" + each_key + \" is \" + each_value)\n"
   ]
  },
  {
   "cell_type": "code",
   "execution_count": 2,
   "metadata": {},
   "outputs": [
    {
     "name": "stdout",
     "output_type": "stream",
     "text": [
      "{'first_name': 'Mehwish', 'last_name': 'Tariq', 'age': '21', 'city': 'Karachi', 'Qualification': 'Final Year Of Electrical Engineering'}\n"
     ]
    }
   ],
   "source": [
    "person1[\"Qualification\"]=\"Final Year Of Electrical Engineering\"\n",
    "print(person1)"
   ]
  },
  {
   "cell_type": "code",
   "execution_count": 3,
   "metadata": {},
   "outputs": [
    {
     "name": "stdout",
     "output_type": "stream",
     "text": [
      "{'first_name': 'Mehwish', 'last_name': 'Tariq', 'age': '21', 'city': 'Karachi'}\n"
     ]
    }
   ],
   "source": [
    "del person1[\"Qualification\"]\n",
    "print(person1)"
   ]
  },
  {
   "cell_type": "code",
   "execution_count": 6,
   "metadata": {},
   "outputs": [
    {
     "name": "stdout",
     "output_type": "stream",
     "text": [
      "Name of city is  karachi\n",
      "Country Name is :  Pakistan\n",
      "Approximate population is :  14.91 million\n",
      "Fact of the city is :  Karachi is the Capital of the Pakistans city proper in the world\n",
      "Name of city is  Dubai\n",
      "Country Name is :  UAE\n",
      "Approximate population is :  3.137 million approx\n",
      "Fact of the city is :  Dubai is a city & emirate in the United Arab Emirates \n",
      "Name of city is  paris\n",
      "Country Name is :  France\n",
      "Approximate population is :  2.141 million approx\n",
      "Fact of the city is :  Paris, France's capital, is a major European city \n"
     ]
    }
   ],
   "source": [
    "city ={\n",
    "    \"karachi\" : {\n",
    "        \"country\": \"Pakistan\",\n",
    "        \"approximate_population\":\"14.91 million\",\n",
    "        \"fact\":\"Karachi is the Capital of the Pakistans city proper in the world\"\n",
    "    },\n",
    "    \"Dubai\" : {\n",
    "        \"country\": \"UAE\",\n",
    "        \"approximate_population\":\"3.137 million approx\",\n",
    "        \"fact\":\"Dubai is a city & emirate in the United Arab Emirates \"\n",
    "    },\n",
    "    \"paris\" : {\n",
    "        \"country\": \"France\",\n",
    "        \"approximate_population\":\"2.141 million approx\",\n",
    "        \"fact\":\"Paris, France's capital, is a major European city \"\n",
    "    }\n",
    "}\n",
    "    \n",
    "for i in city.keys():\n",
    "    print(\"Name of city is \", i)\n",
    "    print(\"Country Name is : \" , city[i][\"country\"])\n",
    "    print(\"Approximate population is : \" , city[i][\"approximate_population\"])\n",
    "    print(\"Fact of the city is : \" , city[i][\"fact\"])\n",
    "    "
   ]
  },
  {
   "cell_type": "code",
   "execution_count": 24,
   "metadata": {},
   "outputs": [
    {
     "name": "stdout",
     "output_type": "stream",
     "text": [
      "Welcome To Movie Theater\n",
      "Enter The Age Of Person: 50\n",
      "Your Ticket price will be 15$\n",
      " Enjoy Your Movie\n"
     ]
    }
   ],
   "source": [
    "print(\"Welcome To Movie Theater\")\n",
    "age=int(input(\"Enter The Age Of Person: \"))\n",
    "if age<=3:\n",
    "    print(\"Your Ticket is Free! Enjoy Your Movie\")\n",
    "elif age <= 12:\n",
    "    print(\"Your Ticket price will be 10$\")\n",
    "        \n",
    "else:\n",
    "     print(\"Your Ticket price will be 15$\")\n",
    "        \n",
    "\n",
    "print(\" Enjoy Your Movie\")"
   ]
  },
  {
   "cell_type": "code",
   "execution_count": 25,
   "metadata": {},
   "outputs": [
    {
     "name": "stdout",
     "output_type": "stream",
     "text": [
      "Enter The Bookk Title: EMFT\n",
      "One of my favorite books is  EMFT\n"
     ]
    }
   ],
   "source": [
    "def favorite_book(book_name):\n",
    "    print(\"One of my favorite books is \",book_name)\n",
    "    \n",
    "title=input(\"Enter The Book Title: \")\n",
    "\n",
    "favorite_book(title)"
   ]
  },
  {
   "cell_type": "code",
   "execution_count": null,
   "metadata": {},
   "outputs": [],
   "source": [
    "import random\n",
    "\n",
    "random_number = random.randrange(1,30)\n",
    "\n",
    "flag = False\n",
    "\n",
    "for i in range(1,4):\n",
    "    guess = int(input(\"Guess the number between 1 to 30 : \"))\n",
    "    if guess == random_number:\n",
    "        flag = True \n",
    "        break\n",
    "    elif guess < random_number:\n",
    "        print(\"Your guess is too low\")\n",
    "    else:\n",
    "        print(\"Your guess is too high\")\n",
    "        \n",
    "if flag:\n",
    "    print(\"Congratulation you Win!!\")\n",
    "else:\n",
    "    print(\"You Loose\")\n",
    "    print(\"Correct Number is \", random_number)"
   ]
  }
 ],
 "metadata": {
  "kernelspec": {
   "display_name": "Python 3",
   "language": "python",
   "name": "python3"
  },
  "language_info": {
   "codemirror_mode": {
    "name": "ipython",
    "version": 3
   },
   "file_extension": ".py",
   "mimetype": "text/x-python",
   "name": "python",
   "nbconvert_exporter": "python",
   "pygments_lexer": "ipython3",
   "version": "3.7.4"
  }
 },
 "nbformat": 4,
 "nbformat_minor": 2
}
